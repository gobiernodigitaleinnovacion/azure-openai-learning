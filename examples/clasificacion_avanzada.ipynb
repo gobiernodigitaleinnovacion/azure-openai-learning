{
 "cells": [
  {
   "cell_type": "code",
   "execution_count": 2,
   "metadata": {},
   "outputs": [
    {
     "name": "stdout",
     "output_type": "stream",
     "text": [
      "Texto: Python es un lenguaje de programación usado en IA\n",
      "Clasificación jerárquica: Categoría principal: Tecnología  \n",
      "Subcategoría: IA\n",
      "Texto: Nuevo software educativo utiliza IA para enseñar ciencias\n",
      "Clasificación multi-etiqueta: Tecnología, Educación, Ciencia\n"
     ]
    }
   ],
   "source": [
    "# examples/clasificacion_avanzada.ipynb\n",
    "# Primera celda\n",
    "import sys\n",
    "import os\n",
    "sys.path.append(os.path.dirname(os.path.dirname(os.path.abspath(''))))\n",
    "\n",
    "from src.clasificador_documentos import ClasificadorDocumentos\n",
    "\n",
    "# Segunda celda\n",
    "categorias = [\"Tecnología\", \"Ciencia\", \"Educación\"]\n",
    "subcategorias = [\"Software\", \"Hardware\", \"IA\", \"Física\", \"Química\", \"Primaria\", \"Secundaria\"]\n",
    "clasificador = ClasificadorDocumentos(categorias)\n",
    "\n",
    "# Tercera celda - Clasificación Jerárquica\n",
    "texto = \"Python es un lenguaje de programación usado en IA\"\n",
    "resultado = clasificador.clasificar_jerarquico(texto, subcategorias)\n",
    "print(f\"Texto: {texto}\")\n",
    "print(f\"Clasificación jerárquica: {resultado}\")\n",
    "\n",
    "# Cuarta celda - Multi-etiqueta\n",
    "texto = \"Nuevo software educativo utiliza IA para enseñar ciencias\"\n",
    "resultado = clasificador.clasificar_multi_etiqueta(texto)\n",
    "print(f\"Texto: {texto}\")\n",
    "print(f\"Clasificación multi-etiqueta: {resultado}\")"
   ]
  }
 ],
 "metadata": {
  "kernelspec": {
   "display_name": "Python 3",
   "language": "python",
   "name": "python3"
  },
  "language_info": {
   "codemirror_mode": {
    "name": "ipython",
    "version": 3
   },
   "file_extension": ".py",
   "mimetype": "text/x-python",
   "name": "python",
   "nbconvert_exporter": "python",
   "pygments_lexer": "ipython3",
   "version": "3.12.6"
  }
 },
 "nbformat": 4,
 "nbformat_minor": 2
}
