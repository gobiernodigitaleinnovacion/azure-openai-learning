{
 "cells": [
  {
   "cell_type": "code",
   "execution_count": 1,
   "metadata": {},
   "outputs": [
    {
     "name": "stdout",
     "output_type": "stream",
     "text": [
      "\n",
      "Resumen para ejecutivo:\n",
      "La inteligencia artificial (IA) está transformando sectores clave como la salud, finanzas y educación, ofreciendo significativas mejoras en eficiencia y personalización. En salud, facilita diagnósticos y tratamientos personalizados; en finanzas, optimiza la predicción de mercado y seguridad; y en educación, permite personalizar el aprendizaje. Sin embargo, es crucial abordar preocupaciones éticas relacionadas con privacidad, sesgos y empleo. Los expertos advierten sobre la necesidad de una innovación responsable y equilibrada que garantice la protección social, asegurando un desarrollo sostenible de la tecnología.\n",
      "\n",
      "Resumen para técnico:\n",
      "La implementación de inteligencia artificial (IA) está transformando sectores clave como la salud, finanzas y educación a través de tecnologías avanzadas. En salud, los sistemas basados en IA facilitan el diagnóstico de enfermedades mediante el análisis de grandes volúmenes de datos médicos, además de permitir tratamientos personalizados mediante el procesamiento de información genética y clínica. En finanzas, los algoritmos de IA se emplean para prever movimientos de mercado, optimizar carteras de inversión y mejorar la detección de fraudes mediante el análisis de patrones anómalos. La educación también se beneficia, con plataformas de aprendizaje adaptativas que ajustan los contenidos al ritmo y estilo de aprendizaje del estudiante, mejorando el rendimiento académico. \n",
      "\n",
      "A pesar de estos avances, existen preocupaciones éticas y sociales sobre el uso de IA. Los principales retos incluyen la protección de la privacidad de los datos, la presencia de sesgos en los algoritmos que pueden llevar a decisiones injustas o discriminatorias, y el impacto negativo potencial en el empleo debido a la automatización. Para abordar estos desafíos, se aboga por un enfoque responsable en el desarrollo de IA que priorice la innovación equilibrada con la protección social, garantizando la equidad, transparencia y responsabilidad en su implementación.\n",
      "\n",
      "Resumen para marketing:\n",
      "¡Bienvenido al futuro con la Inteligencia Artificial! La IA está transformando industrias clave de manera revolucionaria. En el sector salud, estamos viendo un cambio radical con diagnósticos más precisos y tratamientos personalizados al alcance de todos. Imagine un sistema financiero donde los algoritmos predicen las tendencias del mercado de mañana y protegen contra fraudes hoy, haciendo sus inversiones más seguras y rentables. Y en el ámbito educativo, plataformas adaptativas ofrecen una experiencia de aprendizaje a medida, maximizando el potencial de cada alumno.\n",
      "\n",
      "Pero eso no es todo: mientras nos movemos hacia adelante, también nos aseguramos de que el progreso llegue con responsabilidad. Estamos comprometidos a abordar preocupaciones éticas sobre privacidad, sesgos y el impacto laboral. La clave es un desarrollo equilibrado que garantice innovación mientras cuidamos el bienestar social. Únase a nosotros en este viaje de posibilidades infinitas y descubra cómo la IA puede elevar su vida y su negocio al siguiente nivel. ¡El futuro comienza ahora!\n",
      "\n",
      "Resumen con palabras clave:\n",
      "La inteligencia artificial está transformando diversas industrias, incluyendo la salud, finanzas y educación, al mejorar diagnósticos, predecir tendencias y personalizar el aprendizaje. No obstante, existen preocupaciones éticas sobre privacidad, sesgos y empleo. Se sugiere un desarrollo responsable que equilibre innovación y protección social.\n",
      "\n",
      "Palabras clave: inteligencia artificial, diagnósticos, finanzas, educación, ética.\n",
      "\n",
      "Título generado:\n",
      "Revolución de la IA: Beneficios y desafíos éticos actuales.\n",
      "\n",
      "Resumen corto (20 palabras):\n",
      "La IA revoluciona industrias como salud y finanzas, pero plantea preocupaciones éticas; se requiere un desarrollo equilibrado.\n",
      "Número de palabras: 17\n",
      "\n",
      "Resumen medio (50 palabras):\n",
      "La IA está transformando salud, finanzas y educación mediante diagnóstico, personalización y detección de fraudes. Sin embargo, plantean preocupaciones éticas sobre privacidad, sesgos e impacto laboral. Se recomienda un desarrollo responsable que equilibre innovación y protección social.\n",
      "Número de palabras: 37\n"
     ]
    }
   ],
   "source": [
    "# examples/resumenes_avanzados.ipynb\n",
    "\n",
    "# Primera celda - Imports\n",
    "import sys\n",
    "import os\n",
    "sys.path.append(os.path.dirname(os.path.dirname(os.path.abspath(''))))\n",
    "\n",
    "from src.generador_resumenes import GeneradorResumenes\n",
    "\n",
    "# Segunda celda - Inicialización\n",
    "generador = GeneradorResumenes()\n",
    "\n",
    "# Tercera celda - Texto de ejemplo\n",
    "texto_largo = \"\"\"\n",
    "La inteligencia artificial (IA) está revolucionando múltiples industrias. En el sector salud, \n",
    "los sistemas de IA ayudan a diagnosticar enfermedades y personalizar tratamientos. En finanzas, \n",
    "los algoritmos predicen tendencias del mercado y detectan fraudes. La educación se beneficia con \n",
    "plataformas adaptativas que personalizan el aprendizaje. Sin embargo, surgen preocupaciones éticas \n",
    "sobre privacidad, sesgos y el impacto en el empleo. Los expertos recomiendan un desarrollo \n",
    "responsable que equilibre innovación y protección social.\n",
    "\"\"\"\n",
    "\n",
    "# Cuarta celda - Resúmenes por rol\n",
    "roles = [\"ejecutivo\", \"técnico\", \"marketing\"]\n",
    "for rol in roles:\n",
    "   resumen = generador.resumir_por_rol(texto_largo, rol)\n",
    "   print(f\"\\nResumen para {rol}:\")\n",
    "   print(resumen)\n",
    "\n",
    "# Quinta celda - Resumen con palabras clave\n",
    "resumen_keywords = generador.resumir_con_keywords(texto_largo, num_keywords=5)\n",
    "print(\"\\nResumen con palabras clave:\")\n",
    "print(resumen_keywords)\n",
    "\n",
    "# Sexta celda - Generación de título\n",
    "titulo = generador.generar_titulo(texto_largo)\n",
    "print(\"\\nTítulo generado:\")\n",
    "print(titulo)\n",
    "\n",
    "# Séptima celda - Comparación de longitudes\n",
    "resumen_corto = generador.resumir(texto_largo, max_palabras=20)\n",
    "resumen_medio = generador.resumir(texto_largo, max_palabras=50)\n",
    "\n",
    "print(\"\\nResumen corto (20 palabras):\")\n",
    "print(resumen_corto)\n",
    "print(f\"Número de palabras: {len(resumen_corto.split())}\")\n",
    "\n",
    "print(\"\\nResumen medio (50 palabras):\")\n",
    "print(resumen_medio)\n",
    "print(f\"Número de palabras: {len(resumen_medio.split())}\")"
   ]
  }
 ],
 "metadata": {
  "kernelspec": {
   "display_name": "Python 3",
   "language": "python",
   "name": "python3"
  },
  "language_info": {
   "codemirror_mode": {
    "name": "ipython",
    "version": 3
   },
   "file_extension": ".py",
   "mimetype": "text/x-python",
   "name": "python",
   "nbconvert_exporter": "python",
   "pygments_lexer": "ipython3",
   "version": "3.12.6"
  }
 },
 "nbformat": 4,
 "nbformat_minor": 2
}
