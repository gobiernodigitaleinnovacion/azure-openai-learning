{
 "cells": [
  {
   "cell_type": "code",
   "execution_count": 1,
   "metadata": {},
   "outputs": [
    {
     "name": "stdout",
     "output_type": "stream",
     "text": [
      "Texto: Microsoft lanza nueva versión de Windows con características de IA\n",
      "Categoría: Tecnología\n",
      "\n",
      "Texto: Los mercados financieros muestran tendencia alcista\n",
      "Categoría: Negocios\n",
      "\n",
      "Texto: Nuevos avances en tratamientos contra el cáncer\n",
      "Categoría: Salud\n",
      "\n"
     ]
    }
   ],
   "source": [
    "# Primera celda\n",
    "import sys\n",
    "import os\n",
    "sys.path.append(os.path.dirname(os.path.dirname(os.path.abspath(''))))\n",
    "\n",
    "# Segunda celda\n",
    "from src.clasificador_documentos import ClasificadorDocumentos\n",
    "\n",
    "categorias = [\"Tecnología\", \"Negocios\", \"Salud\", \"Deportes\"]\n",
    "clasificador = ClasificadorDocumentos(categorias)\n",
    "\n",
    "textos = [\n",
    "    \"Microsoft lanza nueva versión de Windows con características de IA\",\n",
    "    \"Los mercados financieros muestran tendencia alcista\",\n",
    "    \"Nuevos avances en tratamientos contra el cáncer\"\n",
    "]\n",
    "\n",
    "for texto in textos:\n",
    "    categoria = clasificador.clasificar(texto)\n",
    "    print(f\"Texto: {texto}\")\n",
    "    print(f\"Categoría: {categoria}\\n\")"
   ]
  }
 ],
 "metadata": {
  "kernelspec": {
   "display_name": "Python 3",
   "language": "python",
   "name": "python3"
  },
  "language_info": {
   "codemirror_mode": {
    "name": "ipython",
    "version": 3
   },
   "file_extension": ".py",
   "mimetype": "text/x-python",
   "name": "python",
   "nbconvert_exporter": "python",
   "pygments_lexer": "ipython3",
   "version": "3.12.6"
  }
 },
 "nbformat": 4,
 "nbformat_minor": 2
}
