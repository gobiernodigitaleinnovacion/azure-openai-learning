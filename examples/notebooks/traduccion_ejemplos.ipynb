{
 "cells": [
  {
   "cell_type": "code",
   "execution_count": 1,
   "metadata": {},
   "outputs": [
    {
     "name": "stdout",
     "output_type": "stream",
     "text": [
      "1. Traducciones:\n",
      "\n",
      "Original: Machine learning is transforming the way we analyze data\n",
      "Traducción: El aprendizaje automático está transformando la forma en que analizamos datos.\n",
      "\n",
      "Original: Artificial intelligence is revolutionizing healthcare\n",
      "Traducción: La inteligencia artificial está revolucionando la atención médica.\n",
      "\n",
      "Original: Cloud computing enables scalable solutions\n",
      "Traducción: La computación en la nube permite soluciones escalables.\n",
      "\n",
      "2. Localización de contenido:\n",
      "\n",
      "Región: México\n",
      "Contenido localizado:\n",
      "Nuestra software ofrece soluciones de inteligencia artificial de vanguardia para empresas en México.\n",
      "\n",
      "Aumenta la eficiencia y reduce costos con nuestra plataforma en la nube adaptada a tus necesidades.\n",
      "\n",
      "Únete a miles de clientes satisfechos en todo el mundo, incluyendo muchas empresas mexicanas que ya confían en nosotros. \n",
      "\n",
      "En un entorno empresarial tan competitivo como el de México, donde la innovación y la optimización de procesos son clave, nuestro equipo está listo para ayudarte. Conozca nuestra oferta especial para PYMEs mexicanas y descubre cómo nuestra tecnología puede impulsar tu negocio al siguiente nivel.\n",
      "\n",
      "Región: España\n",
      "Contenido localizado:\n",
      "Nuestro software ofrece soluciones de vanguardia en inteligencia artificial para empresas.\n",
      "\n",
      "Aumenta la eficiencia y reduce costes con nuestra plataforma en la nube.\n",
      "\n",
      "Únete a miles de clientes satisfechos en todo el mundo.\n",
      "\n",
      "Región: Argentina\n",
      "Contenido localizado:\n",
      "Nuestro software ofrece soluciones de inteligencia artificial de vanguardia para empresas. Aumentá la eficiencia y reducí costos con nuestra plataforma en la nube. Sumate a miles de clientes satisfechos en todo el mundo.\n",
      "\n",
      "En Argentina, sabemos lo importante que es optimizar recursos y ser competitivos en el mercado. Nuestro software, adaptado a las necesidades locales, te ayudará a llevar tu negocio al próximo nivel. Confiá en la tecnología que ya transforma compañías globalmente y experimentá el cambio con el respaldo de un servicio al cliente comprometido y cercano.¡No te quedes atrás y unite hoy mismo!\n"
     ]
    }
   ],
   "source": [
    "# Traducción y Localización con Azure OpenAI\n",
    "\n",
    "import sys\n",
    "from pathlib import Path\n",
    "current_dir = Path.cwd()\n",
    "parent_dir = current_dir.parent\n",
    "sys.path.append(str(parent_dir))\n",
    "\n",
    "from src.traductor_ia import TraductorIA\n",
    "\n",
    "# Crear instancia del traductor\n",
    "traductor = TraductorIA()\n",
    "\n",
    "# Ejemplo de traducción\n",
    "textos = [\n",
    "    \"Machine learning is transforming the way we analyze data\",\n",
    "    \"Artificial intelligence is revolutionizing healthcare\",\n",
    "    \"Cloud computing enables scalable solutions\"\n",
    "]\n",
    "\n",
    "print(\"1. Traducciones:\")\n",
    "for texto in textos:\n",
    "    traduccion = traductor.traducir(texto, \"inglés\", \"español\")\n",
    "    print(f\"\\nOriginal: {texto}\")\n",
    "    print(f\"Traducción: {traduccion}\")\n",
    "\n",
    "# Ejemplo de localización\n",
    "contenido_marketing = \"\"\"\n",
    "Our software provides cutting-edge AI solutions for businesses.\n",
    "Increase efficiency and reduce costs with our cloud-based platform.\n",
    "Join thousands of satisfied customers worldwide.\n",
    "\"\"\"\n",
    "\n",
    "regiones = [\"México\", \"España\", \"Argentina\"]\n",
    "\n",
    "print(\"\\n2. Localización de contenido:\")\n",
    "for region in regiones:\n",
    "    contenido_local = traductor.localizar(contenido_marketing, region)\n",
    "    print(f\"\\nRegión: {region}\")\n",
    "    print(f\"Contenido localizado:\\n{contenido_local}\")"
   ]
  }
 ],
 "metadata": {
  "kernelspec": {
   "display_name": "Python 3",
   "language": "python",
   "name": "python3"
  },
  "language_info": {
   "codemirror_mode": {
    "name": "ipython",
    "version": 3
   },
   "file_extension": ".py",
   "mimetype": "text/x-python",
   "name": "python",
   "nbconvert_exporter": "python",
   "pygments_lexer": "ipython3",
   "version": "3.12.6"
  }
 },
 "nbformat": 4,
 "nbformat_minor": 2
}
