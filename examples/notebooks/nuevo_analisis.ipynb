{
 "cells": [
  {
   "cell_type": "code",
   "execution_count": 2,
   "metadata": {},
   "outputs": [
    {
     "name": "stdout",
     "output_type": "stream",
     "text": [
      "Texto: Me encanta este producto, es genial\n",
      "Sentimiento: POSITIVO\n",
      "\n",
      "Texto: No me gustó para nada la experiencia\n",
      "Sentimiento: NEGATIVO\n",
      "\n",
      "Texto: El servicio fue normal, nada especial\n",
      "Sentimiento: NEUTRAL\n",
      "\n"
     ]
    }
   ],
   "source": [
    "# Análisis de Sentimientos con Azure OpenAI\n",
    "# Este notebook demuestra cómo usar el analizador de sentimientos.\n",
    "\n",
    "from src.analizador_sentimientos import AnalizadorSentimientos\n",
    "\n",
    "analizador = AnalizadorSentimientos()\n",
    "\n",
    "# Ejemplos\n",
    "textos = [\n",
    "    \"Me encanta este producto, es genial\",\n",
    "    \"No me gustó para nada la experiencia\",\n",
    "    \"El servicio fue normal, nada especial\"\n",
    "]\n",
    "\n",
    "for texto in textos:\n",
    "    sentimiento = analizador.analizar(texto)\n",
    "    print(f\"Texto: {texto}\")\n",
    "    print(f\"Sentimiento: {sentimiento}\\n\")"
   ]
  }
 ],
 "metadata": {
  "kernelspec": {
   "display_name": "Python 3",
   "language": "python",
   "name": "python3"
  },
  "language_info": {
   "codemirror_mode": {
    "name": "ipython",
    "version": 3
   },
   "file_extension": ".py",
   "mimetype": "text/x-python",
   "name": "python",
   "nbconvert_exporter": "python",
   "pygments_lexer": "ipython3",
   "version": "3.12.6"
  }
 },
 "nbformat": 4,
 "nbformat_minor": 2
}
