{
 "cells": [
  {
   "cell_type": "code",
   "execution_count": 1,
   "metadata": {},
   "outputs": [
    {
     "name": "stdout",
     "output_type": "stream",
     "text": [
      "Resumen: La IA simula inteligencia humana en máquinas, abarcando aprendizaje, razonamiento y autocorrección. Aplicaciones incluyen sistemas expertos, procesamiento de lenguaje natural, reconocimiento del habla y visión artificial.\n"
     ]
    }
   ],
   "source": [
    "# src/generador_resumenes.py\n",
    "class GeneradorResumenes:\n",
    "    def __init__(self):\n",
    "        pass\n",
    "        \n",
    "    def resumir(self, texto, max_palabras=30):\n",
    "        # Aquí iría la lógica de conexión con Azure OpenAI\n",
    "        pass\n",
    "\n",
    "# main.py\n",
    "from src.generador_resumenes import GeneradorResumenes\n",
    "\n",
    "def main():\n",
    "    generador = GeneradorResumenes()\n",
    "    \n",
    "    texto_largo = \"\"\"\n",
    "    La inteligencia artificial (IA) es la simulación de procesos de inteligencia humana por parte de máquinas, \n",
    "    especialmente sistemas informáticos. Estos procesos incluyen el aprendizaje (la adquisición de información \n",
    "    y reglas para el uso de la información), el razonamiento (usando las reglas para llegar a conclusiones \n",
    "    aproximadas o definitivas) y la autocorrección. Las aplicaciones particulares de la IA incluyen sistemas expertos, \n",
    "    procesamiento del lenguaje natural, reconocimiento del habla y visión artificial.\n",
    "    \"\"\"\n",
    "    \n",
    "    resumen = generador.resumir(texto_largo, max_palabras=30)\n",
    "    print(f\"Resumen: {resumen}\")\n",
    "\n",
    "if __name__ == \"__main__\":\n",
    "    main()"
   ]
  }
 ],
 "metadata": {
  "kernelspec": {
   "display_name": "Python 3",
   "language": "python",
   "name": "python3"
  },
  "language_info": {
   "codemirror_mode": {
    "name": "ipython",
    "version": 3
   },
   "file_extension": ".py",
   "mimetype": "text/x-python",
   "name": "python",
   "nbconvert_exporter": "python",
   "pygments_lexer": "ipython3",
   "version": "3.12.6"
  }
 },
 "nbformat": 4,
 "nbformat_minor": 2
}
