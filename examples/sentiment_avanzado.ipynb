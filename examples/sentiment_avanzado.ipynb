{
 "cells": [
  {
   "cell_type": "code",
   "execution_count": null,
   "metadata": {},
   "outputs": [
    {
     "name": "stdout",
     "output_type": "stream",
     "text": [
      "Review: El producto tiene excelente calidad pero el precio es muy alto\n",
      "Análisis por aspectos: {'calidad': 'POSITIVO', 'precio': 'NEGATIVO', 'servicio': 'NEUTRAL'}\n",
      "\n",
      "Review: La atención al cliente fue pésima aunque el producto funciona bien\n",
      "Análisis por aspectos: {'calidad': 'NEGATIVO', 'precio': 'NEUTRAL', 'servicio': 'NEGATIVO'}\n",
      "\n",
      "Review: Buena relación calidad-precio, el servicio de entrega fue rápido\n",
      "Análisis por aspectos: {'calidad': 'POSITIVO', 'precio': 'POSITIVO', 'servicio': 'POSITIVO'}\n",
      "\n",
      "Caso: Necesito ayuda urgente, el sistema está caído\n",
      "Nivel de urgencia: ALTA\n",
      "\n",
      "Caso: Me gustaría saber más sobre el producto\n",
      "Nivel de urgencia: BAJA\n",
      "\n",
      "Caso: Error crítico en producción, necesitamos solución inmediata\n",
      "Nivel de urgencia: ALTA\n",
      "\n",
      "Texto: The service was excellent\n",
      "Idioma: en\n",
      "Sentimiento: Positive\n",
      "\n",
      "Texto: El servicio fue excelente\n",
      "Idioma: es\n",
      "Sentimiento: Positivo\n",
      "\n",
      "Texto: Le service était excellent\n",
      "Idioma: fr\n",
      "Sentimiento: Positif\n",
      "\n"
     ]
    },
    {
     "ename": "",
     "evalue": "",
     "output_type": "error",
     "traceback": [
      "\u001b[1;31mEl kernel se bloqueó al ejecutar código en la celda actual o en una celda anterior. \n",
      "\u001b[1;31mRevise el código de las celdas para identificar una posible causa del error. \n",
      "\u001b[1;31mHaga clic <a href='https://aka.ms/vscodeJupyterKernelCrash'>aquí</a> para obtener más información. \n",
      "\u001b[1;31mVea Jupyter <a href='command:jupyter.viewOutput'>log</a> para obtener más detalles."
     ]
    }
   ],
   "source": [
    "# Primera celda\n",
    "import sys\n",
    "import os\n",
    "sys.path.append(os.path.dirname(os.path.dirname(os.path.abspath(''))))\n",
    "\n",
    "from src.analizador_sentimientos import AnalizadorSentimientos\n",
    "\n",
    "analizador = AnalizadorSentimientos()\n",
    "\n",
    "# Segunda celda - Análisis por aspectos\n",
    "reviews_producto = [\n",
    "    \"El producto tiene excelente calidad pero el precio es muy alto\",\n",
    "    \"La atención al cliente fue pésima aunque el producto funciona bien\",\n",
    "    \"Buena relación calidad-precio, el servicio de entrega fue rápido\"\n",
    "]\n",
    "\n",
    "for review in reviews_producto:\n",
    "    aspectos = {\n",
    "        'calidad': analizador.analizar_aspecto(review, 'calidad'),\n",
    "        'precio': analizador.analizar_aspecto(review, 'precio'),\n",
    "        'servicio': analizador.analizar_aspecto(review, 'servicio')\n",
    "    }\n",
    "    print(f\"Review: {review}\")\n",
    "    print(\"Análisis por aspectos:\", aspectos)\n",
    "    print()\n",
    "\n",
    "# Tercera celda - Detección de urgencia\n",
    "casos_soporte = [\n",
    "    \"Necesito ayuda urgente, el sistema está caído\",\n",
    "    \"Me gustaría saber más sobre el producto\",\n",
    "    \"Error crítico en producción, necesitamos solución inmediata\"\n",
    "]\n",
    "\n",
    "for caso in casos_soporte:\n",
    "    urgencia = analizador.detectar_urgencia(caso)\n",
    "    print(f\"Caso: {caso}\")\n",
    "    print(f\"Nivel de urgencia: {urgencia}\")\n",
    "    print()\n",
    "\n",
    "# Cuarta celda - Análisis multilingüe\n",
    "comentarios_multi = [\n",
    "    {\"texto\": \"The service was excellent\", \"idioma\": \"en\"},\n",
    "    {\"texto\": \"El servicio fue excelente\", \"idioma\": \"es\"},\n",
    "    {\"texto\": \"Le service était excellent\", \"idioma\": \"fr\"}\n",
    "]\n",
    "\n",
    "for comentario in comentarios_multi:\n",
    "    sentimiento = analizador.analizar_multilingue(\n",
    "        comentario['texto'], \n",
    "        comentario['idioma']\n",
    "    )\n",
    "    print(f\"Texto: {comentario['texto']}\")\n",
    "    print(f\"Idioma: {comentario['idioma']}\")\n",
    "    print(f\"Sentimiento: {sentimiento}\")\n",
    "    print()"
   ]
  }
 ],
 "metadata": {
  "kernelspec": {
   "display_name": "Python 3",
   "language": "python",
   "name": "python3"
  },
  "language_info": {
   "codemirror_mode": {
    "name": "ipython",
    "version": 3
   },
   "file_extension": ".py",
   "mimetype": "text/x-python",
   "name": "python",
   "nbconvert_exporter": "python",
   "pygments_lexer": "ipython3",
   "version": "3.12.6"
  }
 },
 "nbformat": 4,
 "nbformat_minor": 2
}
